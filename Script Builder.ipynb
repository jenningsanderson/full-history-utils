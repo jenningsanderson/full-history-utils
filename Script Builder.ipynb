{
 "cells": [
  {
   "cell_type": "code",
   "execution_count": null,
   "metadata": {},
   "outputs": [],
   "source": [
    "#! /usr/bin/python3\n",
    "import os,sys\n",
    "print(\"Extract Utility: Using osmium-tool \");\n",
    "\n",
    "os.system(\"mason_packages/.link/bin/osmium --version | head -n 1\");\n",
    "print(\"\");"
   ]
  },
  {
   "cell_type": "code",
   "execution_count": null,
   "metadata": {},
   "outputs": [],
   "source": [
    "def get_bbox(path):\n",
    "    print(\"Found: \",path)\n",
    "    with open(path,'r') as file:\n",
    "        return file.read()"
   ]
  },
  {
   "cell_type": "code",
   "execution_count": null,
   "metadata": {},
   "outputs": [],
   "source": [
    "def extract_bbox(path,name,found=False):\n",
    "    if (found):\n",
    "        bbox = get_bbox(path+\"/\"+name)\n",
    "        command = \"mason_packages/.link/bin/osmium extract --with-history --bbox={0} -o EXTRACTS/{1}.osh.pbf planet-history.latest.osm.pbf\".format(bbox,name)\n",
    "        print(\"Running command: \\n\",command)\n",
    "        \n",
    "    else:\n",
    "        for p in os.listdir(path):\n",
    "            if os.path.isdir(path+\"/\"+p):\n",
    "                extract_bbox(path+\"/\"+p, name)\n",
    "            elif p==name:\n",
    "                return extract_bbox(path,name,found=True)"
   ]
  },
  {
   "cell_type": "code",
   "execution_count": null,
   "metadata": {},
   "outputs": [],
   "source": [
    "extract_bbox(\"bboxes\",'detroit')"
   ]
  },
  {
   "cell_type": "markdown",
   "metadata": {},
   "source": [
    "## US Cities"
   ]
  },
  {
   "cell_type": "code",
   "execution_count": null,
   "metadata": {},
   "outputs": [],
   "source": [
    "import os, json"
   ]
  },
  {
   "cell_type": "code",
   "execution_count": null,
   "metadata": {},
   "outputs": [],
   "source": [
    "cities = json.load(open('us-cities.json','r'))"
   ]
  },
  {
   "cell_type": "code",
   "execution_count": null,
   "metadata": {},
   "outputs": [],
   "source": [
    "for city in cities['features']:\n",
    "    file = city['properties']['id']\n",
    "    inputFile = \"/home/cc/full-history-utils/EXTRACTS/\"+file+\".osh.pbf\"\n",
    "    fileRoot  = \"/data/EXTRACTS/\"+file\n",
    "    string = \"run.sh {0} {1}\".format(inputFile, fileRoot)\n",
    "    print(string)"
   ]
  },
  {
   "cell_type": "markdown",
   "metadata": {},
   "source": [
    "## Split the Planet by Quadkeys"
   ]
  },
  {
   "cell_type": "code",
   "execution_count": 4,
   "metadata": {},
   "outputs": [],
   "source": [
    "import numpy as np, json"
   ]
  },
  {
   "cell_type": "code",
   "execution_count": 5,
   "metadata": {},
   "outputs": [],
   "source": [
    "d2r = np.pi / 180,\n",
    "r2d = 180 / np.pi\n",
    "\n",
    "def quadkey_to_tile(quadkey):\n",
    "    \"\"\"Transform quadkey to tile coordinates\"\"\"\n",
    "    tile_x, tile_y = (0, 0)\n",
    "    level = len(quadkey)\n",
    "    for i in range(level):\n",
    "        bit = level - i\n",
    "        mask = 1 << (bit - 1)\n",
    "        if quadkey[level - bit] == '1':\n",
    "            tile_x |= mask\n",
    "        if quadkey[level - bit] == '2':\n",
    "            tile_y |= mask\n",
    "        if quadkey[level - bit] == '3':\n",
    "            tile_x |= mask\n",
    "            tile_y |= mask\n",
    "    return [tile_x, tile_y, level]\n",
    "\n",
    "def tile_to_bbox(tile):\n",
    "    e = tile2lon(tile[0] + 1, tile[2])\n",
    "    w = tile2lon(tile[0], tile[2])\n",
    "    s = tile2lat(tile[1] + 1, tile[2])\n",
    "    n = tile2lat(tile[1], tile[2])\n",
    "    return [w, s, e, n]\n",
    "\n",
    "def tile2lon(x, z) :\n",
    "    return x / np.power(2, z) * 360 - 180\n",
    "\n",
    "def tile2lat(y, z) :\n",
    "    n = np.pi - 2 * np.pi * y / np.power(2, z)\n",
    "    return r2d * np.arctan(0.5 * (np.exp(n) - np.exp(-n)))"
   ]
  },
  {
   "cell_type": "code",
   "execution_count": 6,
   "metadata": {},
   "outputs": [],
   "source": [
    "zoomLevel = 2\n",
    "\n",
    "extracts = []\n",
    "for i in range(4**zoomLevel):\n",
    "    out = np.base_repr(i, base=4)\n",
    "    if len(out) < zoomLevel:\n",
    "        out = \"0\"+out\n",
    "    bbox = tile_to_bbox(quadkey_to_tile(out))\n",
    "    extracts.append({\n",
    "        \"output\": \"quadkey_\"+out+\".osh.pbf\",\n",
    "        \"description\" : \"quadkey_\"+out,\n",
    "        \"bbox\":bbox\n",
    "    })\n",
    "json.dump({\"extracts\":extracts}, open('quadkey_extract_config.json','w'),indent=2)"
   ]
  },
  {
   "cell_type": "code",
   "execution_count": null,
   "metadata": {},
   "outputs": [],
   "source": []
  },
  {
   "cell_type": "markdown",
   "metadata": {},
   "source": []
  },
  {
   "cell_type": "code",
   "execution_count": null,
   "metadata": {},
   "outputs": [],
   "source": []
  }
 ],
 "metadata": {
  "kernelspec": {
   "display_name": "Python 3",
   "language": "python",
   "name": "python3"
  },
  "language_info": {
   "codemirror_mode": {
    "name": "ipython",
    "version": 3
   },
   "file_extension": ".py",
   "mimetype": "text/x-python",
   "name": "python",
   "nbconvert_exporter": "python",
   "pygments_lexer": "ipython3",
   "version": "3.5.2"
  }
 },
 "nbformat": 4,
 "nbformat_minor": 2
}
