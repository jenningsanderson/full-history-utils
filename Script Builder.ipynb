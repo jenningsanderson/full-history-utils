{
 "cells": [
  {
   "cell_type": "code",
   "execution_count": 3,
   "metadata": {},
   "outputs": [
    {
     "name": "stdout",
     "output_type": "stream",
     "text": [
      "Extract Utility: Using osmium-tool \n",
      "\n"
     ]
    }
   ],
   "source": [
    "#! /usr/bin/python3\n",
    "import os,sys\n",
    "print(\"Extract Utility: Using osmium-tool \");\n",
    "\n",
    "os.system(\"mason_packages/.link/bin/osmium --version | head -n 1\");\n",
    "print(\"\");"
   ]
  },
  {
   "cell_type": "code",
   "execution_count": 24,
   "metadata": {},
   "outputs": [],
   "source": [
    "def get_bbox(path):\n",
    "    print(\"Found: \",path)\n",
    "    with open(path,'r') as file:\n",
    "        return file.read()"
   ]
  },
  {
   "cell_type": "code",
   "execution_count": 31,
   "metadata": {},
   "outputs": [],
   "source": [
    "def extract_bbox(path,name,found=False):\n",
    "    if (found):\n",
    "        bbox = get_bbox(path+\"/\"+name)\n",
    "        command = \"mason_packages/.link/bin/osmium extract --with-history --bbox={0} -o EXTRACTS/{1}.osh.pbf planet-history.latest.osm.pbf\".format(bbox,name)\n",
    "        print(\"Running command: \\n\",command)\n",
    "        \n",
    "    else:\n",
    "        for p in os.listdir(path):\n",
    "            if os.path.isdir(path+\"/\"+p):\n",
    "                extract_bbox(path+\"/\"+p, name)\n",
    "            elif p==name:\n",
    "                return extract_bbox(path,name,found=True)"
   ]
  },
  {
   "cell_type": "code",
   "execution_count": 32,
   "metadata": {},
   "outputs": [
    {
     "name": "stdout",
     "output_type": "stream",
     "text": [
      "Found:  bboxes/USA/detroit\n",
      "Running command: \n",
      " mason_packages/.link/bin/osmium extract --with-history --bbox=-83.287956,42.255192,-82.910439,42.450233\n",
      " -o EXTRACTS/detroit.osh.pbf planet-history.latest.osm.pbf\n"
     ]
    }
   ],
   "source": [
    "extract_bbox(\"bboxes\",'detroit')"
   ]
  },
  {
   "cell_type": "code",
   "execution_count": null,
   "metadata": {},
   "outputs": [],
   "source": []
  }
 ],
 "metadata": {
  "kernelspec": {
   "display_name": "Python 3",
   "language": "python",
   "name": "python3"
  },
  "language_info": {
   "codemirror_mode": {
    "name": "ipython",
    "version": 3
   },
   "file_extension": ".py",
   "mimetype": "text/x-python",
   "name": "python",
   "nbconvert_exporter": "python",
   "pygments_lexer": "ipython3",
   "version": "3.6.3"
  }
 },
 "nbformat": 4,
 "nbformat_minor": 2
}
