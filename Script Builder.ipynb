{
 "cells": [
  {
   "cell_type": "code",
   "execution_count": 3,
   "metadata": {},
   "outputs": [
    {
     "name": "stdout",
     "output_type": "stream",
     "text": [
      "Extract Utility: Using osmium-tool \n",
      "\n"
     ]
    }
   ],
   "source": [
    "#! /usr/bin/python3\n",
    "import os,sys\n",
    "print(\"Extract Utility: Using osmium-tool \");\n",
    "\n",
    "os.system(\"mason_packages/.link/bin/osmium --version | head -n 1\");\n",
    "print(\"\");"
   ]
  },
  {
   "cell_type": "code",
   "execution_count": 24,
   "metadata": {},
   "outputs": [],
   "source": [
    "def get_bbox(path):\n",
    "    print(\"Found: \",path)\n",
    "    with open(path,'r') as file:\n",
    "        return file.read()"
   ]
  },
  {
   "cell_type": "code",
   "execution_count": 31,
   "metadata": {},
   "outputs": [],
   "source": [
    "def extract_bbox(path,name,found=False):\n",
    "    if (found):\n",
    "        bbox = get_bbox(path+\"/\"+name)\n",
    "        command = \"mason_packages/.link/bin/osmium extract --with-history --bbox={0} -o EXTRACTS/{1}.osh.pbf planet-history.latest.osm.pbf\".format(bbox,name)\n",
    "        print(\"Running command: \\n\",command)\n",
    "        \n",
    "    else:\n",
    "        for p in os.listdir(path):\n",
    "            if os.path.isdir(path+\"/\"+p):\n",
    "                extract_bbox(path+\"/\"+p, name)\n",
    "            elif p==name:\n",
    "                return extract_bbox(path,name,found=True)"
   ]
  },
  {
   "cell_type": "code",
   "execution_count": 32,
   "metadata": {},
   "outputs": [
    {
     "name": "stdout",
     "output_type": "stream",
     "text": [
      "Found:  bboxes/USA/detroit\n",
      "Running command: \n",
      " mason_packages/.link/bin/osmium extract --with-history --bbox=-83.287956,42.255192,-82.910439,42.450233\n",
      " -o EXTRACTS/detroit.osh.pbf planet-history.latest.osm.pbf\n"
     ]
    }
   ],
   "source": [
    "extract_bbox(\"bboxes\",'detroit')"
   ]
  },
  {
   "cell_type": "code",
   "execution_count": null,
   "metadata": {},
   "outputs": [],
   "source": []
  },
  {
   "cell_type": "code",
   "execution_count": null,
   "metadata": {},
   "outputs": [],
   "source": []
  },
  {
   "cell_type": "code",
   "execution_count": 1,
   "metadata": {},
   "outputs": [],
   "source": [
    "import os, json"
   ]
  },
  {
   "cell_type": "code",
   "execution_count": 3,
   "metadata": {},
   "outputs": [],
   "source": [
    "cities = json.load(open('us-cities.json','r'))"
   ]
  },
  {
   "cell_type": "code",
   "execution_count": 15,
   "metadata": {},
   "outputs": [
    {
     "name": "stdout",
     "output_type": "stream",
     "text": [
      "run.sh /home/cc/full-history-utils/EXTRACTS/albany_new-york.osh.pbf /data/EXTRACTS/albany_new-york\n",
      "run.sh /home/cc/full-history-utils/EXTRACTS/atlanta_georgia.osh.pbf /data/EXTRACTS/atlanta_georgia\n",
      "run.sh /home/cc/full-history-utils/EXTRACTS/austin_texas.osh.pbf /data/EXTRACTS/austin_texas\n",
      "run.sh /home/cc/full-history-utils/EXTRACTS/boston_massachusetts.osh.pbf /data/EXTRACTS/boston_massachusetts\n",
      "run.sh /home/cc/full-history-utils/EXTRACTS/brooklyn_new-york.osh.pbf /data/EXTRACTS/brooklyn_new-york\n",
      "run.sh /home/cc/full-history-utils/EXTRACTS/calgary_canada.osh.pbf /data/EXTRACTS/calgary_canada\n",
      "run.sh /home/cc/full-history-utils/EXTRACTS/chicago_illinois.osh.pbf /data/EXTRACTS/chicago_illinois\n",
      "run.sh /home/cc/full-history-utils/EXTRACTS/cleveland_ohio.osh.pbf /data/EXTRACTS/cleveland_ohio\n",
      "run.sh /home/cc/full-history-utils/EXTRACTS/dallas_texas.osh.pbf /data/EXTRACTS/dallas_texas\n",
      "run.sh /home/cc/full-history-utils/EXTRACTS/dc-baltimore_maryland.osh.pbf /data/EXTRACTS/dc-baltimore_maryland\n",
      "run.sh /home/cc/full-history-utils/EXTRACTS/denver-boulder_colorado.osh.pbf /data/EXTRACTS/denver-boulder_colorado\n",
      "run.sh /home/cc/full-history-utils/EXTRACTS/detroit_michigan.osh.pbf /data/EXTRACTS/detroit_michigan\n",
      "run.sh /home/cc/full-history-utils/EXTRACTS/edmonton_canada.osh.pbf /data/EXTRACTS/edmonton_canada\n",
      "run.sh /home/cc/full-history-utils/EXTRACTS/hampton-roads_virginia.osh.pbf /data/EXTRACTS/hampton-roads_virginia\n",
      "run.sh /home/cc/full-history-utils/EXTRACTS/honolulu_hawaii.osh.pbf /data/EXTRACTS/honolulu_hawaii\n",
      "run.sh /home/cc/full-history-utils/EXTRACTS/houston_texas.osh.pbf /data/EXTRACTS/houston_texas\n",
      "run.sh /home/cc/full-history-utils/EXTRACTS/kansas-city-lawrence-topeka_kansas.osh.pbf /data/EXTRACTS/kansas-city-lawrence-topeka_kansas\n",
      "run.sh /home/cc/full-history-utils/EXTRACTS/la-habana_cuba.osh.pbf /data/EXTRACTS/la-habana_cuba\n",
      "run.sh /home/cc/full-history-utils/EXTRACTS/las-vegas_nevada.osh.pbf /data/EXTRACTS/las-vegas_nevada\n",
      "run.sh /home/cc/full-history-utils/EXTRACTS/los-angeles_california.osh.pbf /data/EXTRACTS/los-angeles_california\n",
      "run.sh /home/cc/full-history-utils/EXTRACTS/mexico-city_mexico.osh.pbf /data/EXTRACTS/mexico-city_mexico\n",
      "run.sh /home/cc/full-history-utils/EXTRACTS/miami_florida.osh.pbf /data/EXTRACTS/miami_florida\n",
      "run.sh /home/cc/full-history-utils/EXTRACTS/minneapolis-saint-paul_minnesota.osh.pbf /data/EXTRACTS/minneapolis-saint-paul_minnesota\n",
      "run.sh /home/cc/full-history-utils/EXTRACTS/montreal_canada.osh.pbf /data/EXTRACTS/montreal_canada\n",
      "run.sh /home/cc/full-history-utils/EXTRACTS/nashville_tennessee.osh.pbf /data/EXTRACTS/nashville_tennessee\n",
      "run.sh /home/cc/full-history-utils/EXTRACTS/new-orleans_louisiana.osh.pbf /data/EXTRACTS/new-orleans_louisiana\n",
      "run.sh /home/cc/full-history-utils/EXTRACTS/new-york_new-york.osh.pbf /data/EXTRACTS/new-york_new-york\n",
      "run.sh /home/cc/full-history-utils/EXTRACTS/ottawa_canada.osh.pbf /data/EXTRACTS/ottawa_canada\n",
      "run.sh /home/cc/full-history-utils/EXTRACTS/philadelphia_pennsylvania.osh.pbf /data/EXTRACTS/philadelphia_pennsylvania\n",
      "run.sh /home/cc/full-history-utils/EXTRACTS/phoenix_arizona.osh.pbf /data/EXTRACTS/phoenix_arizona\n",
      "run.sh /home/cc/full-history-utils/EXTRACTS/pittsburgh_pennsylvania.osh.pbf /data/EXTRACTS/pittsburgh_pennsylvania\n",
      "run.sh /home/cc/full-history-utils/EXTRACTS/port-au-prince_haiti.osh.pbf /data/EXTRACTS/port-au-prince_haiti\n",
      "run.sh /home/cc/full-history-utils/EXTRACTS/portland_oregon.osh.pbf /data/EXTRACTS/portland_oregon\n",
      "run.sh /home/cc/full-history-utils/EXTRACTS/raleigh_north-carolina.osh.pbf /data/EXTRACTS/raleigh_north-carolina\n",
      "run.sh /home/cc/full-history-utils/EXTRACTS/saint-louis_missouri.osh.pbf /data/EXTRACTS/saint-louis_missouri\n",
      "run.sh /home/cc/full-history-utils/EXTRACTS/san-antonio_texas.osh.pbf /data/EXTRACTS/san-antonio_texas\n",
      "run.sh /home/cc/full-history-utils/EXTRACTS/san-diego-tijuana_mexico.osh.pbf /data/EXTRACTS/san-diego-tijuana_mexico\n",
      "run.sh /home/cc/full-history-utils/EXTRACTS/san-diego_california.osh.pbf /data/EXTRACTS/san-diego_california\n",
      "run.sh /home/cc/full-history-utils/EXTRACTS/san-francisco-bay_california.osh.pbf /data/EXTRACTS/san-francisco-bay_california\n",
      "run.sh /home/cc/full-history-utils/EXTRACTS/san-francisco_california.osh.pbf /data/EXTRACTS/san-francisco_california\n",
      "run.sh /home/cc/full-history-utils/EXTRACTS/san-jose_california.osh.pbf /data/EXTRACTS/san-jose_california\n",
      "run.sh /home/cc/full-history-utils/EXTRACTS/seattle_washington.osh.pbf /data/EXTRACTS/seattle_washington\n",
      "run.sh /home/cc/full-history-utils/EXTRACTS/tampa_florida.osh.pbf /data/EXTRACTS/tampa_florida\n",
      "run.sh /home/cc/full-history-utils/EXTRACTS/louisville_kentucky.osh.pbf /data/EXTRACTS/louisville_kentucky\n"
     ]
    }
   ],
   "source": [
    "for city in cities['features']:\n",
    "    file = city['properties']['id']\n",
    "    inputFile = \"/home/cc/full-history-utils/EXTRACTS/\"+file+\".osh.pbf\"\n",
    "    fileRoot  = \"/data/EXTRACTS/\"+file\n",
    "    string = \"run.sh {0} {1}\".format(inputFile, fileRoot)\n",
    "    print(string)"
   ]
  },
  {
   "cell_type": "code",
   "execution_count": null,
   "metadata": {},
   "outputs": [],
   "source": []
  }
 ],
 "metadata": {
  "kernelspec": {
   "display_name": "Python 3",
   "language": "python",
   "name": "python3"
  },
  "language_info": {
   "codemirror_mode": {
    "name": "ipython",
    "version": 3
   },
   "file_extension": ".py",
   "mimetype": "text/x-python",
   "name": "python",
   "nbconvert_exporter": "python",
   "pygments_lexer": "ipython3",
   "version": "3.6.3"
  }
 },
 "nbformat": 4,
 "nbformat_minor": 2
}
